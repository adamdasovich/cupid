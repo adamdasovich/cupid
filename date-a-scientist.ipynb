{
 "cells": [
  {
   "cell_type": "code",
   "execution_count": 5,
   "metadata": {},
   "outputs": [],
   "source": [
    "import pandas as pd"
   ]
  },
  {
   "cell_type": "code",
   "execution_count": 15,
   "metadata": {},
   "outputs": [
    {
     "data": {
      "text/plain": [
       "\"i'm not ashamed of much, but writing public text on an online\\ndating site makes me pleasantly uncomfortable. i'll try to be as\\nearnest as possible in the noble endeavor of standing naked before\\nthe world.<br />\\n<br />\\ni've lived in san francisco for 15 years, and both love it and find\\nmyself frustrated with its deficits. lots of great friends and\\nacquaintances (which increases my apprehension to put anything on\\nthis site), but i'm feeling like meeting some new people that\\naren't just friends of friends. it's okay if you are a friend of a\\nfriend too. chances are, if you make it through the complex\\nfiltering process of multiple choice questions, lifestyle\\nstatistics, photo scanning, and these indulgent blurbs of text\\nwithout moving quickly on to another search result, you are\\nprobably already a cultural peer and at most 2 people removed. at\\nfirst, i thought i should say as little as possible here to avoid\\nyou, but that seems silly.<br />\\n<br />\\nas far as culture goes, i'm definitely more on the weird side of\\nthe spectrum, but i don't exactly wear it on my sleeve. once you\\nget me talking, it will probably become increasingly apparent that\\nwhile i'd like to think of myself as just like everybody else (and\\nby some definition i certainly am), most people don't see me that\\nway. that's fine with me. most of the people i find myself\\ngravitating towards are pretty weird themselves. you probably are\\ntoo.\""
      ]
     },
     "execution_count": 15,
     "metadata": {},
     "output_type": "execute_result"
    }
   ],
   "source": [
    "data = pd.read_csv('profiles.csv')\n",
    "df_mc = data.drop(columns=(['essay0', 'essay1', 'essay2', 'essay3', 'essay4', 'essay5', 'essay6', 'essay7', 'essay8', 'essay9']))\n",
    "df_sa = data[['essay0', 'essay1', 'essay2', 'essay3', 'essay4', 'essay5', 'essay6', 'essay7', 'essay8', 'essay9']]\n"
   ]
  },
  {
   "cell_type": "markdown",
   "metadata": {},
   "source": [
    "I have separated the data into 2 separate dfs. df_mc is the data that was obtained from the multiple choice questions.  df_sa is the data that was obtained from the short answer questions.\n",
    "This was done to keep the similar data together.\n",
    "For the next little bit of code, I will be focussing on the df_mc"
   ]
  },
  {
   "cell_type": "code",
   "execution_count": 20,
   "metadata": {},
   "outputs": [
    {
     "data": {
      "text/plain": [
       "Index(['age', 'body_type', 'diet', 'drinks', 'drugs', 'education', 'ethnicity',\n",
       "       'height', 'income', 'job', 'last_online', 'location', 'offspring',\n",
       "       'orientation', 'pets', 'religion', 'sex', 'sign', 'smokes', 'speaks',\n",
       "       'status'],\n",
       "      dtype='object')"
      ]
     },
     "execution_count": 20,
     "metadata": {},
     "output_type": "execute_result"
    }
   ],
   "source": [
    "df_mc.columns"
   ]
  },
  {
   "cell_type": "code",
   "execution_count": 23,
   "metadata": {},
   "outputs": [
    {
     "data": {
      "text/plain": [
       "drinks\n",
       "socially       41780\n",
       "rarely          5957\n",
       "often           5164\n",
       "not at all      3267\n",
       "very often       471\n",
       "desperately      322\n",
       "Name: count, dtype: int64"
      ]
     },
     "execution_count": 23,
     "metadata": {},
     "output_type": "execute_result"
    }
   ],
   "source": [
    "df_mc.drinks.value_counts()"
   ]
  }
 ],
 "metadata": {
  "kernelspec": {
   "display_name": "Python 3",
   "language": "python",
   "name": "python3"
  },
  "language_info": {
   "codemirror_mode": {
    "name": "ipython",
    "version": 3
   },
   "file_extension": ".py",
   "mimetype": "text/x-python",
   "name": "python",
   "nbconvert_exporter": "python",
   "pygments_lexer": "ipython3",
   "version": "3.11.7"
  }
 },
 "nbformat": 4,
 "nbformat_minor": 4
}
